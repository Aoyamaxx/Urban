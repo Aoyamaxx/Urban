{
 "cells": [
  {
   "cell_type": "code",
   "execution_count": 37,
   "id": "5033ba88-0c18-4f60-82b9-7a8abbe2896b",
   "metadata": {},
   "outputs": [],
   "source": [
    "import os\n",
    "import pandas as pd\n",
    "\n",
    "path = 'raw_weather'\n",
    "\n",
    "main_df = pd.DataFrame()\n",
    "\n",
    "for file in os.listdir(path):\n",
    "    if file.endswith('.csv'):\n",
    "        file_path = os.path.join(path, file)\n",
    "        temp_df = pd.read_csv(file_path)\n",
    "        \n",
    "        if not main_df.empty:\n",
    "            temp_df = temp_df[1:]\n",
    "        \n",
    "        main_df = pd.concat([main_df, temp_df], ignore_index = True)\n",
    "        \n",
    "        main_df.sort_values(by = 'datetime', inplace = True)\n",
    "\n",
    "main_df = main_df.drop(columns = ['name', 'sunrise', 'sunset', 'stations'])\n",
    "\n",
    "main_df.to_csv('weather_2007-2023.csv', encoding = 'utf-8', index = False)"
   ]
  }
 ],
 "metadata": {
  "kernelspec": {
   "display_name": "Python 3 (ipykernel)",
   "language": "python",
   "name": "python3"
  },
  "language_info": {
   "codemirror_mode": {
    "name": "ipython",
    "version": 3
   },
   "file_extension": ".py",
   "mimetype": "text/x-python",
   "name": "python",
   "nbconvert_exporter": "python",
   "pygments_lexer": "ipython3",
   "version": "3.9.12"
  }
 },
 "nbformat": 4,
 "nbformat_minor": 5
}
