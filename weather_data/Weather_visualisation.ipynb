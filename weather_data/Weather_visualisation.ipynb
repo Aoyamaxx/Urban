{
 "cells": [
  {
   "cell_type": "code",
   "execution_count": 1,
   "id": "f45c8ec7-243d-4661-8c9b-6a89dcb14b3a",
   "metadata": {},
   "outputs": [],
   "source": [
    "import pandas as pd\n",
    "import seaborn as sns\n",
    "import matplotlib.pyplot as plt"
   ]
  },
  {
   "cell_type": "code",
   "execution_count": 2,
   "id": "0f2abe27-9570-4f28-894a-39fbcdf59227",
   "metadata": {},
   "outputs": [
    {
     "data": {
      "text/plain": [
       "<Figure size 1200x600 with 0 Axes>"
      ]
     },
     "metadata": {},
     "output_type": "display_data"
    }
   ],
   "source": [
    "df = pd.read_csv('weather_2007-2023.csv')\n",
    "\n",
    "df['datetime'] = pd.to_datetime(df['datetime'])\n",
    "\n",
    "grouped_df = df.groupby(df['datetime'].dt.year)['temp'].mean().reset_index()\n",
    "\n",
    "grouped_df['smoothed_temperature'] = grouped_df['temp'].rolling(window = 6, min_periods = 1, center = True).mean()\n",
    "\n",
    "sns.set(style = \"whitegrid\", palette = \"hot\")\n",
    "\n",
    "# Plot using seaborn with additional customizations\n",
    "plt.figure(figsize = (12, 6))\n",
    "sns.lineplot(data = grouped_df, x = 'datetime', y = 'temp', marker = 'o', label = 'Average Temperature')\n",
    "sns.lineplot(data = grouped_df, x = 'datetime', y = 'smoothed_temperature', label = 'Estimated Mean Curve')\n",
    "plt.title('Average Temperature from June to August Over the Years', fontsize = 16)\n",
    "plt.xlabel('Year', fontsize = 14)\n",
    "plt.ylabel('Average Temperature (°C)', fontsize = 14)\n",
    "plt.legend()\n",
    "plt.xticks(rotation = 45)\n",
    "sns.despine(left = True, bottom = True)\n",
    "plt.tight_layout()\n",
    "plt.savefig('temperature_plot.jpg')\n",
    "plt.clf()  "
   ]
  },
  {
   "cell_type": "code",
   "execution_count": 3,
   "id": "d0372f4f-0a80-4295-9f8a-de7e73f569f4",
   "metadata": {},
   "outputs": [
    {
     "data": {
      "text/plain": [
       "<Figure size 1200x600 with 0 Axes>"
      ]
     },
     "metadata": {},
     "output_type": "display_data"
    }
   ],
   "source": [
    "grouped_df = df.groupby(df['datetime'].dt.year)['precip'].mean().reset_index()\n",
    "\n",
    "grouped_df['smoothed_precip'] = grouped_df['precip'].rolling(window = 6, min_periods = 1, center = True).mean()\n",
    "\n",
    "sns.set(style = \"whitegrid\", palette = \"Blues_r\")\n",
    "\n",
    "# Plot using seaborn with additional customizations\n",
    "plt.figure(figsize = (12, 6))\n",
    "sns.lineplot(data = grouped_df, x = 'datetime', y = 'precip', marker = 'o', label = 'Average Precipitation')\n",
    "sns.lineplot(data = grouped_df, x = 'datetime', y = 'smoothed_precip', label = 'Estimated Mean Curve')\n",
    "plt.title('Average Precipitation from June to August Over the Years', fontsize = 16)\n",
    "plt.xlabel('Year', fontsize = 14)\n",
    "plt.ylabel('Average Precipitation (mm)', fontsize = 14)\n",
    "plt.legend()\n",
    "plt.xticks(rotation = 45)\n",
    "sns.despine(left = True, bottom = True)\n",
    "plt.tight_layout()\n",
    "plt.savefig('precipitation_plot.jpg')\n",
    "plt.clf()"
   ]
  }
 ],
 "metadata": {
  "kernelspec": {
   "display_name": "Python 3 (ipykernel)",
   "language": "python",
   "name": "python3"
  },
  "language_info": {
   "codemirror_mode": {
    "name": "ipython",
    "version": 3
   },
   "file_extension": ".py",
   "mimetype": "text/x-python",
   "name": "python",
   "nbconvert_exporter": "python",
   "pygments_lexer": "ipython3",
   "version": "3.9.12"
  }
 },
 "nbformat": 4,
 "nbformat_minor": 5
}
